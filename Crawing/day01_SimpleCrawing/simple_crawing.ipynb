{
 "cells": [
  {
   "cell_type": "markdown",
   "id": "66fbccc4",
   "metadata": {
    "vscode": {
     "languageId": "plaintext"
    }
   },
   "source": [
    "# 1. Simple Crawling "
   ]
  },
  {
   "cell_type": "markdown",
   "id": "ff16a755",
   "metadata": {},
   "source": [
    "- Goal: Sử dụng 2 thư viện `requests` để truy cập url, lấy content ; `beautifulsoup4` để parse dưới dạng html và thực hiện các phương thức xử lý (để lấy các nội dung / thẻ/ ,...)"
   ]
  },
  {
   "cell_type": "markdown",
   "id": "e0f8b856",
   "metadata": {},
   "source": [
    "## a. Send request to url "
   ]
  },
  {
   "cell_type": "code",
   "execution_count": 2,
   "id": "e43b0361",
   "metadata": {},
   "outputs": [],
   "source": [
    "import requests\n",
    "from bs4 import BeautifulSoup"
   ]
  },
  {
   "cell_type": "code",
   "execution_count": 7,
   "id": "5b02db61",
   "metadata": {},
   "outputs": [
    {
     "name": "stdout",
     "output_type": "stream",
     "text": [
      "Status: <Response [200]>\n",
      "Content: \n",
      "b'<!doctype html>\\n<html>\\n<head>\\n    <title>Example Domain</title>\\n\\n    <meta charset=\"utf-8\" />\\n    <meta http-equiv=\"Content-type\" content=\"text/html; charset=utf-8\" />\\n    <meta name=\"viewport\" content=\"width=device-width, initial-scale=1\" />\\n    <style type=\"text/css\">\\n    body {\\n        background-color: #f0f0f2;\\n        margin: 0;\\n        padding: 0;\\n        font-family: -apple-system, system-ui, BlinkMacSystemFont, \"Segoe UI\", \"Open Sans\", \"Helvetica Neue\", Helvetica, Arial, sans-serif;\\n        \\n    }\\n    div {\\n        width: 600px;\\n        margin: 5em auto;\\n        padding: 2em;\\n        background-color: #fdfdff;\\n        border-radius: 0.5em;\\n        box-shadow: 2px 3px 7px 2px rgba(0,0,0,0.02);\\n    }\\n    a:link, a:visited {\\n        color: #38488f;\\n        text-decoration: none;\\n    }\\n    @media (max-width: 700px) {\\n        div {\\n            margin: 0 auto;\\n            width: auto;\\n        }\\n    }\\n    </style>    \\n</head>\\n\\n<body>\\n<div>\\n    <h1>Example Domain</h1>\\n    <p>This domain is for use in illustrative examples in documents. You may use this\\n    domain in literature without prior coordination or asking for permission.</p>\\n    <p><a href=\"https://www.iana.org/domains/example\">More information...</a></p>\\n</div>\\n</body>\\n</html>\\n'\n",
      "Text: \n",
      "<!doctype html>\n",
      "<html>\n",
      "<head>\n",
      "    <title>Example Domain</title>\n",
      "\n",
      "    <meta charset=\"utf-8\" />\n",
      "    <meta http-equiv=\"Content-type\" content=\"text/html; charset=utf-8\" />\n",
      "    <meta name=\"viewport\" content=\"width=device-width, initial-scale=1\" />\n",
      "    <style type=\"text/css\">\n",
      "    body {\n",
      "        background-color: #f0f0f2;\n",
      "        margin: 0;\n",
      "        padding: 0;\n",
      "        font-family: -apple-system, system-ui, BlinkMacSystemFont, \"Segoe UI\", \"Open Sans\", \"Helvetica Neue\", Helvetica, Arial, sans-serif;\n",
      "        \n",
      "    }\n",
      "    div {\n",
      "        width: 600px;\n",
      "        margin: 5em auto;\n",
      "        padding: 2em;\n",
      "        background-color: #fdfdff;\n",
      "        border-radius: 0.5em;\n",
      "        box-shadow: 2px 3px 7px 2px rgba(0,0,0,0.02);\n",
      "    }\n",
      "    a:link, a:visited {\n",
      "        color: #38488f;\n",
      "        text-decoration: none;\n",
      "    }\n",
      "    @media (max-width: 700px) {\n",
      "        div {\n",
      "            margin: 0 auto;\n",
      "            width: auto;\n",
      "        }\n",
      "    }\n",
      "    </style>    \n",
      "</head>\n",
      "\n",
      "<body>\n",
      "<div>\n",
      "    <h1>Example Domain</h1>\n",
      "    <p>This domain is for use in illustrative examples in documents. You may use this\n",
      "    domain in literature without prior coordination or asking for permission.</p>\n",
      "    <p><a href=\"https://www.iana.org/domains/example\">More information...</a></p>\n",
      "</div>\n",
      "</body>\n",
      "</html>\n",
      "\n"
     ]
    }
   ],
   "source": [
    "url = 'https://example.com'\n",
    "\n",
    "headers = {\n",
    "    \"User-Agent\": \"Mozzila/5.0\"\n",
    "}\n",
    "\n",
    "response = requests.get(url= url, headers= headers)\n",
    "\n",
    "print(f'Status: {response}')\n",
    "print(f'Content: \\n{response.content}')\n",
    "print(f'Text: \\n{response.text}')\n"
   ]
  },
  {
   "cell_type": "markdown",
   "id": "1a814fff",
   "metadata": {},
   "source": [
    "## b. Analyze HTML format"
   ]
  },
  {
   "cell_type": "code",
   "execution_count": 9,
   "id": "860ddffa",
   "metadata": {},
   "outputs": [],
   "source": [
    "# using bs4 to format content into html \n",
    "soup = BeautifulSoup(response.text, 'html.parser')\n",
    "\n",
    "# response.text ~ soup, however, soup will allow me to get/ find,... do anything as a object "
   ]
  },
  {
   "cell_type": "markdown",
   "id": "23323481",
   "metadata": {},
   "source": [
    "### i. Extract data "
   ]
  },
  {
   "cell_type": "code",
   "execution_count": null,
   "id": "905d2020",
   "metadata": {},
   "outputs": [
    {
     "name": "stdout",
     "output_type": "stream",
     "text": [
      "<h1>Example Domain</h1>\n"
     ]
    },
    {
     "data": {
      "text/plain": [
       "'Example Domain'"
      ]
     },
     "execution_count": 11,
     "metadata": {},
     "output_type": "execute_result"
    }
   ],
   "source": [
    "# find <tag> in soup\n",
    "\n",
    "# 1. get tag\n",
    "heading_1 = soup.find('h1')\n",
    "print(heading_1 )\n",
    "# 2. get text\n",
    "text_h1 = heading_1.text.strip()\n",
    "text_h1\n",
    "\n",
    "# `find`: just return the first element which be found"
   ]
  },
  {
   "cell_type": "code",
   "execution_count": 16,
   "id": "a8492907",
   "metadata": {},
   "outputs": [
    {
     "name": "stdout",
     "output_type": "stream",
     "text": [
      "All <p> tags are found: \n",
      "[<p>This domain is for use in illustrative examples in documents. You may use this\n",
      "    domain in literature without prior coordination or asking for permission.</p>, <p><a href=\"https://www.iana.org/domains/example\">More information...</a></p>]\n",
      "\n",
      "\n",
      "Its content: This domain is for use in illustrative examples in documents. You may use this\n",
      "    domain in literature without prior coordination or asking for permission.\n",
      "Its content: More information...\n"
     ]
    }
   ],
   "source": [
    "# Similarly, FINDALL will return all matching element\n",
    "p_tags = soup.find_all('p')\n",
    "\n",
    "print(f'All <p> tags are found: \\n{p_tags}\\n\\n')\n",
    "\n",
    "for p_tag in p_tags: \n",
    "    print(f'Its content: {p_tag.text.strip()}')"
   ]
  },
  {
   "cell_type": "markdown",
   "id": "81a470b7",
   "metadata": {},
   "source": [
    "### ii. Get tag inside tag"
   ]
  },
  {
   "cell_type": "code",
   "execution_count": 18,
   "id": "bef95f15",
   "metadata": {},
   "outputs": [
    {
     "name": "stdout",
     "output_type": "stream",
     "text": [
      "<a> tag is extracted: \n",
      "<a href=\"https://www.iana.org/domains/example\">More information...</a>\n",
      "Link from <a> tag: https://www.iana.org/domains/example\n",
      "Text from <a> tag: More information...\n"
     ]
    }
   ],
   "source": [
    "''' Context:\n",
    " <p><a href=\"https://www.iana.org/domains/example\">More information...</a></p>\n",
    "\n",
    " -> we need to extract <a> tag inside <p> tag and its attributes such as: href, text...'''\n",
    "\n",
    "complex_p_tag = p_tags[-1]\n",
    "\n",
    "a_tag = complex_p_tag.find('a')\n",
    "print(f\"<a> tag is extracted: \\n{a_tag}\")\n",
    "\n",
    "# get its attribute using `get` (NOT FIND- using only for tag name)\n",
    "link = a_tag.get('href')\n",
    "text = a_tag.text\n",
    "\n",
    "print(f\"Link from <a> tag: {link}\")\n",
    "print(f\"Text from <a> tag: {text}\")\n",
    "\n"
   ]
  }
 ],
 "metadata": {
  "kernelspec": {
   "display_name": "venv",
   "language": "python",
   "name": "python3"
  },
  "language_info": {
   "codemirror_mode": {
    "name": "ipython",
    "version": 3
   },
   "file_extension": ".py",
   "mimetype": "text/x-python",
   "name": "python",
   "nbconvert_exporter": "python",
   "pygments_lexer": "ipython3",
   "version": "3.11.9"
  }
 },
 "nbformat": 4,
 "nbformat_minor": 5
}
