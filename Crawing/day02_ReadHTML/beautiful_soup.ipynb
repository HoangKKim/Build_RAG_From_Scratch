{
 "cells": [
  {
   "cell_type": "markdown",
   "id": "130063b3",
   "metadata": {},
   "source": [
    "# Read HTML syntax"
   ]
  },
  {
   "cell_type": "markdown",
   "id": "7cac4162",
   "metadata": {},
   "source": [
    "## 1. Get familar with HTML syntax & BS4"
   ]
  },
  {
   "cell_type": "code",
   "execution_count": null,
   "id": "1e823aff",
   "metadata": {},
   "outputs": [],
   "source": [
    "from bs4 import BeautifulSoup\n",
    "\n",
    "html_string = \"\"\"\n",
    "<html>\n",
    "  <head><title>Trang demo</title></head>\n",
    "  <body>\n",
    "    <h1>Xin chào!</h1>\n",
    "    <p class=\"desc\">Đây là đoạn mô tả</p>\n",
    "    <p class=\"desc\">Đây là đoạn mô tả 2</p>\n",
    "    <p class=\"outer-desc\">\n",
    "        <p class=\"inner-desc\">Đây là đoạn mô tả bên trong</p>\n",
    "        <p class=\"inner-desc\">Đây là đoạn mô tả bên trong 2</p>\n",
    "        <p class=\"inner-desc\">Đây là đoạn mô tả bên trong 3</p>\n",
    "    </p>\n",
    "    <a href=\"https://example.com\">Trang chính</a>\n",
    "    <h1>Bye bye</h1>\n",
    "  </body>\n",
    "</html>\n",
    "\"\"\"\n",
    "\n",
    "soup = BeautifulSoup(html_string, \"html.parser\")\n",
    "\n",
    "print(soup.prettify())"
   ]
  },
  {
   "cell_type": "code",
   "execution_count": null,
   "id": "337494f2",
   "metadata": {},
   "outputs": [
    {
     "name": "stdout",
     "output_type": "stream",
     "text": [
      "------ Without class name ------\n",
      "[<p class=\"desc\">Đây là đoạn mô tả</p>, <p class=\"desc\">Đây là đoạn mô tả 2</p>, <p class=\"outer-desc\">\n",
      "<p class=\"inner-desc\">Đây là đoạn mô tả bên trong</p>\n",
      "<p class=\"inner-desc\">Đây là đoạn mô tả bên trong 2</p>\n",
      "<p class=\"inner-desc\">Đây là đoạn mô tả bên trong 3</p>\n",
      "</p>, <p class=\"inner-desc\">Đây là đoạn mô tả bên trong</p>, <p class=\"inner-desc\">Đây là đoạn mô tả bên trong 2</p>, <p class=\"inner-desc\">Đây là đoạn mô tả bên trong 3</p>] \n",
      "\n",
      "\n",
      "------ With class name ------\n",
      "[<p class=\"desc\">Đây là đoạn mô tả</p>, <p class=\"desc\">Đây là đoạn mô tả 2</p>] \n",
      "\n",
      "\n",
      "------- get text ---------\n",
      "Đây là đoạn mô tả 2\n"
     ]
    }
   ],
   "source": [
    "# find all syntax : find all <p> tag\n",
    "p_tags_without_classname = soup.find_all('p')\n",
    "print(\"------ Without class name ------\")\n",
    "print(p_tags_without_classname, '\\n\\n')\n",
    "\n",
    "p_tags_with_classname = soup.find_all('p', class_= 'desc')\n",
    "print(\"------ With class name ------\")\n",
    "print(p_tags_with_classname, '\\n\\n')\n",
    "\n",
    "print('------- get text ---------')\n",
    "p_tag = p_tags_with_classname[-1]\n",
    "print(p_tag.text)\n",
    "\n",
    "# similar to find syntax\n"
   ]
  },
  {
   "cell_type": "code",
   "execution_count": 23,
   "id": "652bbf6f",
   "metadata": {},
   "outputs": [
    {
     "name": "stdout",
     "output_type": "stream",
     "text": [
      "--------------Find p inside p------------------\n",
      "=== using find in find ===\n",
      "['Đây là đoạn mô tả bên trong', 'Đây là đoạn mô tả bên trong 2', 'Đây là đoạn mô tả bên trong 3']\n"
     ]
    }
   ],
   "source": [
    "# select syntax (use for case tag in tag)\n",
    "'''context: find all p tags (with class name = 'inner-desc') inside p tag (with class name = 'desc')'''\n",
    "\n",
    "print('--------------Find p inside p------------------')\n",
    "\n",
    "# case 1: basically using find in find \n",
    "inner_p_tags = soup.find('p', class_ = 'outer-desc').find_all('p', class_ = 'inner-desc')\n",
    "print('=== using find in find ===')\n",
    "print([tag.text for tag in inner_p_tags])"
   ]
  },
  {
   "cell_type": "code",
   "execution_count": 33,
   "id": "94dffeb0",
   "metadata": {},
   "outputs": [
    {
     "name": "stdout",
     "output_type": "stream",
     "text": [
      "=== using select ===\n"
     ]
    },
    {
     "data": {
      "text/plain": [
       "[<p class=\"inner-desc\">Đây là đoạn mô tả bên trong</p>,\n",
       " <p class=\"inner-desc\">Đây là đoạn mô tả bên trong 2</p>,\n",
       " <p class=\"inner-desc\">Đây là đoạn mô tả bên trong 3</p>]"
      ]
     },
     "execution_count": 33,
     "metadata": {},
     "output_type": "execute_result"
    }
   ],
   "source": [
    "# case 2: using select\n",
    "inner_p_tags_select = soup.select('p.outer-desc > p.inner-desc')\n",
    "print(\"=== using select ===\")\n",
    "# print([tag_.text.strip() for tag_ in inner_p_tags])\n",
    "inner_p_tags_select"
   ]
  }
 ],
 "metadata": {
  "kernelspec": {
   "display_name": "venv",
   "language": "python",
   "name": "python3"
  },
  "language_info": {
   "codemirror_mode": {
    "name": "ipython",
    "version": 3
   },
   "file_extension": ".py",
   "mimetype": "text/x-python",
   "name": "python",
   "nbconvert_exporter": "python",
   "pygments_lexer": "ipython3",
   "version": "3.11.9"
  }
 },
 "nbformat": 4,
 "nbformat_minor": 5
}
