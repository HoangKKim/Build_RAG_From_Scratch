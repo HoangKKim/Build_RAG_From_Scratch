{
 "cells": [
  {
   "cell_type": "markdown",
   "id": "12334065",
   "metadata": {},
   "source": [
    "**<h1 style = 'text-align:center'>Looping Graph</h1>**"
   ]
  },
  {
   "cell_type": "markdown",
   "id": "b84cd225",
   "metadata": {},
   "source": [
    "## 1. Objectives\n",
    "- Implement looping logic to route the flow of data back to the nodes\n",
    "- Create a single conditional edge to handle decition-making and control graph flow\n",
    "\n",
    "**-> Main Goal**: Coding up Looping Logic\n"
   ]
  },
  {
   "cell_type": "code",
   "execution_count": 8,
   "id": "e6d5affc",
   "metadata": {},
   "outputs": [],
   "source": [
    "from typing import List, TypedDict, Dict\n",
    "from langgraph.graph import StateGraph, END, START\n",
    "from IPython.display import display, Image\n",
    "\n",
    "import random"
   ]
  },
  {
   "cell_type": "code",
   "execution_count": 9,
   "id": "f2ac57e5",
   "metadata": {},
   "outputs": [],
   "source": [
    "class AgentState(TypedDict): \n",
    "    name: str\n",
    "    number: List[int]\n",
    "    counter: int"
   ]
  },
  {
   "cell_type": "code",
   "execution_count": 10,
   "id": "806a0998",
   "metadata": {},
   "outputs": [],
   "source": [
    "def greeting_node(state: AgentState) -> AgentState:\n",
    "    \"\"\"Greeting node which says hi to the person\"\"\"\n",
    "    state['name'] = f\"Hi there, {state['name']}\"\n",
    "    state['counter'] = 0\n",
    "\n",
    "    return state\n",
    "\n",
    "def random_node(state: AgentState) -> AgentState:\n",
    "    \"\"\"Generates a random number from 0 to 10\"\"\"\n",
    "\n",
    "    state['number'].append(random.randint(0, 10))\n",
    "    state['counter'] +=1\n",
    "    return state\n",
    "\n",
    "def should_continue(state: AgentState) -> AgentState:\n",
    "    \"\"\"Function to decide what to do next\"\"\"\n",
    "\n",
    "    if state['counter'] < 5:\n",
    "        print(\"Entering loop\", state['counter'])\n",
    "        return \"loop\"\n",
    "    else:\n",
    "        return \"exit\"\n",
    "\n",
    "\n",
    "    "
   ]
  },
  {
   "cell_type": "code",
   "execution_count": 11,
   "id": "5a81dcb8",
   "metadata": {},
   "outputs": [],
   "source": [
    "# flow: greeting -> random -> random -> random -> random -> random -> END\n",
    "\n",
    "graph = StateGraph(AgentState)\n",
    "\n",
    "graph.add_node('greeting', greeting_node)\n",
    "graph.add_node('random', random_node)\n",
    "\n",
    "graph.set_entry_point('greeting')\n",
    "graph.add_edge('greeting', 'random')\n",
    "graph.add_conditional_edges(\n",
    "    \"random\", should_continue,\n",
    "    {\n",
    "        \"loop\": \"random\",\n",
    "        \"exit\": END\n",
    "    }\n",
    ")\n",
    "\n",
    "app = graph.compile()"
   ]
  },
  {
   "cell_type": "code",
   "execution_count": 12,
   "id": "5c73c746",
   "metadata": {},
   "outputs": [
    {
     "data": {
      "image/png": "[encoded data removed]",
      "text/plain": [
       "<IPython.core.display.Image object>"
      ]
     },
     "metadata": {},
     "output_type": "display_data"
    }
   ],
   "source": [
    "display(Image(app.get_graph().draw_png()))"
   ]
  },
  {
   "cell_type": "code",
   "execution_count": 13,
   "id": "85786fd8",
   "metadata": {},
   "outputs": [
    {
     "name": "stdout",
     "output_type": "stream",
     "text": [
      "Entering loop 1\n",
      "Entering loop 2\n",
      "Entering loop 3\n",
      "Entering loop 4\n"
     ]
    },
    {
     "data": {
      "text/plain": [
       "{'name': 'Hi there, Kim', 'number': [6, 0, 5, 10, 2], 'counter': 5}"
      ]
     },
     "execution_count": 13,
     "metadata": {},
     "output_type": "execute_result"
    }
   ],
   "source": [
    "app.invoke({\n",
    "    'name': 'Kim',\n",
    "    'counter': -1,\n",
    "    'number': []\n",
    "})"
   ]
  }
 ],
 "metadata": {
  "kernelspec": {
   "display_name": "Python 3",
   "language": "python",
   "name": "python3"
  },
  "language_info": {
   "codemirror_mode": {
    "name": "ipython",
    "version": 3
   },
   "file_extension": ".py",
   "mimetype": "text/x-python",
   "name": "python",
   "nbconvert_exporter": "python",
   "pygments_lexer": "ipython3",
   "version": "3.11.0"
  }
 },
 "nbformat": 4,
 "nbformat_minor": 5
}
