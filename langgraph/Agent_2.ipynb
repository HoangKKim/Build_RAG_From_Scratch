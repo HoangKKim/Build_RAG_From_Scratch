{
 "cells": [
  {
   "cell_type": "markdown",
   "id": "7d93517f",
   "metadata": {},
   "source": [
    "**<h1 style = 'text-align: center'>Multiple Inputs Graph</h1>**"
   ]
  },
  {
   "cell_type": "markdown",
   "id": "b8497c98",
   "metadata": {},
   "source": [
    "## 1. Objectives\n",
    "\n",
    "1. Define a more complex AgenState\n",
    "2. Create a processing node that performs operations on list data\n",
    "3. Set up a LangGraph that processes and outputs computef results\n",
    "4. Invoke the graph with structured inputs and retrive outputs\n",
    "\n",
    "-> **Main goal**: Learn how to handle multiple inputs"
   ]
  },
  {
   "cell_type": "code",
   "execution_count": 1,
   "id": "308b2d57",
   "metadata": {},
   "outputs": [],
   "source": [
    "from typing import TypedDict, List\n",
    "from langgraph.graph import StateGraph"
   ]
  },
  {
   "cell_type": "code",
   "execution_count": 3,
   "id": "cd077a43",
   "metadata": {},
   "outputs": [],
   "source": [
    "# define AgentState\n",
    "class AgentState(TypedDict):\n",
    "    values: List[int]\n",
    "    name: str\n",
    "    result: str"
   ]
  },
  {
   "cell_type": "code",
   "execution_count": 7,
   "id": "f0b20d4b",
   "metadata": {},
   "outputs": [],
   "source": [
    "# define action of nodes\n",
    "\n",
    "def process_values(state: AgentState) -> AgentState:\n",
    "    \"\"\" Sum the values and concate with the name to return the string result\"\"\"\n",
    "\n",
    "    state['result'] = f\"Hi there {state['name']}! Your sum = {sum(state['values'])}\"\n",
    "    return state"
   ]
  },
  {
   "cell_type": "code",
   "execution_count": 8,
   "id": "416b1525",
   "metadata": {},
   "outputs": [],
   "source": [
    "# build graph\n",
    "\n",
    "graph = StateGraph(AgentState)\n",
    "\n",
    "graph.add_node(\"processor\", process_values)\n",
    "\n",
    "graph.set_entry_point(\"processor\")\n",
    "graph.set_finish_point(\"processor\")\n",
    "\n",
    "app = graph.compile()"
   ]
  },
  {
   "cell_type": "code",
   "execution_count": 9,
   "id": "c847b020",
   "metadata": {},
   "outputs": [
    {
     "data": {
      "image/png": "[encoded data removed]",
      "text/plain": [
       "<IPython.core.display.Image object>"
      ]
     },
     "metadata": {},
     "output_type": "display_data"
    }
   ],
   "source": [
    "# visualize workflow\n",
    "from IPython.display import Image, display\n",
    "\n",
    "display(Image(app.get_graph().draw_png()))\n"
   ]
  },
  {
   "cell_type": "code",
   "execution_count": 12,
   "id": "1dfdd3db",
   "metadata": {},
   "outputs": [
    {
     "data": {
      "text/plain": [
       "{'values': [1, 2, 3, 4],\n",
       " 'name': 'Kim',\n",
       " 'result': 'Hi there Kim! Your sum = 10'}"
      ]
     },
     "execution_count": 12,
     "metadata": {},
     "output_type": "execute_result"
    }
   ],
   "source": [
    "# invoke app\n",
    "\n",
    "answer = app.invoke(\n",
    "    {\"values\" : [1, 2, 3, 4],\n",
    "    \"name\": \"Kim\"}\n",
    ")\n",
    "\n",
    "answer"
   ]
  },
  {
   "cell_type": "markdown",
   "id": "4378a2b6",
   "metadata": {},
   "source": [
    "# 2. Exercise for Graph II"
   ]
  },
  {
   "cell_type": "markdown",
   "id": "5004dc76",
   "metadata": {},
   "source": [
    "Create a graph -> pass a single list of int , name, an operation  \n",
    "- if operation = `+` -> add elements \n",
    "- if operation = `*+*` -> multiply elements\n",
    "\n",
    "- input: {\"name\": \"Jack Sparrow\", \"values\": [1,2,3,4], \"operation\": \"*\"}\n",
    "- output: \"Hi Jack Sparrow, your answer is: 24\""
   ]
  },
  {
   "cell_type": "code",
   "execution_count": 14,
   "id": "ba4d1a71",
   "metadata": {},
   "outputs": [
    {
     "data": {
      "image/png": "[encoded data removed]",
      "text/plain": [
       "<IPython.core.display.Image object>"
      ]
     },
     "metadata": {},
     "output_type": "display_data"
    }
   ],
   "source": [
    "from typing import List, TypedDict\n",
    "from langgraph.graph import StateGraph\n",
    "\n",
    "# define state of agent\n",
    "class AgentState(TypedDict):\n",
    "    values: List[int]\n",
    "    operation: str\n",
    "    name: str\n",
    "    result: str\n",
    "\n",
    "# define action\n",
    "def process_list(state: AgentState) -> AgentState:\n",
    "    \"\"\"process values in list with the corresponding operation\"\"\"\n",
    "\n",
    "    if state['operation'] == \"*\":\n",
    "        multiply_result = 1\n",
    "        for i in state['values']:\n",
    "            multiply_result *= i \n",
    "        state['result'] = f\"Hi {state['name']}, your anwser is: {multiply_result}\"\n",
    "\n",
    "    elif state['operation'] == \"+\":\n",
    "        state['result'] = f\"Hi {state['name']}, your anwser is: {sum(state['values'])}\"\n",
    "    else: \n",
    "        return None    \n",
    "    return state\n",
    "\n",
    "# build graph\n",
    "graph = StateGraph(AgentState)\n",
    "\n",
    "graph.add_node('processor', process_list)\n",
    "\n",
    "graph.set_entry_point('processor')\n",
    "graph.set_finish_point('processor')\n",
    "\n",
    "app = graph.compile()\n",
    "\n",
    "# visualize graph\n",
    "from IPython.display import Image, display\n",
    "\n",
    "display(Image(app.get_graph().draw_png()))\n",
    "\n"
   ]
  },
  {
   "cell_type": "code",
   "execution_count": 17,
   "id": "c0b56d2b",
   "metadata": {},
   "outputs": [
    {
     "data": {
      "text/plain": [
       "{'values': [1, 2, 3, 4],\n",
       " 'operation': '*',\n",
       " 'name': 'Jack Sparrow',\n",
       " 'result': 'Hi Jack Sparrow, your anwser is: 24'}"
      ]
     },
     "execution_count": 17,
     "metadata": {},
     "output_type": "execute_result"
    }
   ],
   "source": [
    "# invoke graph\n",
    "\n",
    "answer = app.invoke({\n",
    "    'values': [1, 2, 3, 4],\n",
    "    'operation': '*',\n",
    "    'name': 'Jack Sparrow'\n",
    "})\n",
    "\n",
    "answer"
   ]
  }
 ],
 "metadata": {
  "kernelspec": {
   "display_name": "Python 3",
   "language": "python",
   "name": "python3"
  },
  "language_info": {
   "codemirror_mode": {
    "name": "ipython",
    "version": 3
   },
   "file_extension": ".py",
   "mimetype": "text/x-python",
   "name": "python",
   "nbconvert_exporter": "python",
   "pygments_lexer": "ipython3",
   "version": "3.11.0"
  }
 },
 "nbformat": 4,
 "nbformat_minor": 5
}
