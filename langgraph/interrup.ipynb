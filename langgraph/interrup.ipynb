{
 "cells": [
  {
   "cell_type": "code",
   "execution_count": null,
   "id": "1fe58977",
   "metadata": {},
   "outputs": [
    {
     "name": "stdout",
     "output_type": "stream",
     "text": [
      "> Received an input from the interrupt: hello\n",
      "{'node': {'human_value': 'hello'}}\n"
     ]
    }
   ],
   "source": [
    "import uuid\n",
    "from typing import Optional\n",
    "from typing_extensions import TypedDict\n",
    "\n",
    "from langgraph.checkpoint.memory import InMemorySaver\n",
    "from langgraph.constants import START\n",
    "from langgraph.graph import StateGraph\n",
    "from langgraph.types import interrupt, Command\n",
    "\n",
    "\n",
    "class State(TypedDict):\n",
    "    \"\"\"The graph state.\"\"\"\n",
    "\n",
    "    foo: str\n",
    "    human_value: Optional[str]\n",
    "    \"\"\"Human value will be updated using an interrupt.\"\"\"\n",
    "\n",
    "\n",
    "def node(state: State):\n",
    "    answer = interrupt(\n",
    "        # This value will be sent to the client\n",
    "        # as part of the interrupt information.\n",
    "        \"what is your age?\"\n",
    "    )\n",
    "    print(f\"> Received an input from the interrupt: {answer}\")\n",
    "    return {\"human_value\": answer}\n",
    "\n",
    "\n",
    "builder = StateGraph(State)\n",
    "builder.add_node(\"node\", node)\n",
    "builder.add_edge(START, \"node\")\n",
    "\n",
    "# A checkpointer must be enabled for interrupts to work!\n",
    "checkpointer = InMemorySaver()\n",
    "graph = builder.compile(checkpointer=checkpointer)\n",
    "\n",
    "config = {\n",
    "    \"configurable\": {\n",
    "        \"thread_id\": uuid.uuid4(),\n",
    "    }\n",
    "}\n",
    "\n",
    "for chunk in graph.stream({\"foo\": \"abc\"}, config):\n",
    "    print(chunk)\n",
    "\n",
    "# > {'__interrupt__': (Interrupt(value='what is your age?', id='45fda8478b2ef754419799e10992af06'),)}\n",
    "\n",
    "human_comment = input(\"input from user: \")\n",
    "command = Command(resume=human_comment.strip())\n",
    "\n",
    "for chunk in graph.stream(command, config):\n",
    "    print(chunk)\n",
    "\n",
    "\n"
   ]
  },
  {
   "cell_type": "code",
   "execution_count": null,
   "id": "31f09297",
   "metadata": {},
   "outputs": [
    {
     "name": "stdout",
     "output_type": "stream",
     "text": [
      "{'__interrupt__': (Interrupt(value='what is your age?', id='e265fbb647eb378df97f1b67e1767b38'),)}\n",
      "> Received an input from the interrupt: hello\n",
      "{'node': {'human_value': 'hello'}}\n"
     ]
    }
   ],
   "source": [
    "import uuid\n",
    "from typing import Optional\n",
    "from typing_extensions import TypedDict\n",
    "\n",
    "from langgraph.checkpoint.memory import InMemorySaver\n",
    "from langgraph.constants import START\n",
    "from langgraph.graph import StateGraph\n",
    "from langgraph.types import interrupt, Command\n",
    "\n",
    "\n",
    "class State(TypedDict):\n",
    "    foo: str\n",
    "    human_value: Optional[str]\n",
    "\n",
    "\n",
    "def node(state: State):\n",
    "    answer = interrupt(\"what is your age?\")\n",
    "    print(f\"> Received an input from the interrupt: {answer}\")\n",
    "    return {\"human_value\": answer}\n",
    "\n",
    "\n",
    "builder = StateGraph(State)\n",
    "builder.add_node(\"node\", node)\n",
    "builder.add_edge(START, \"node\")\n",
    "\n",
    "checkpointer = InMemorySaver()\n",
    "graph = builder.compile(checkpointer=checkpointer)\n",
    "\n",
    "config = {\n",
    "    \"configurable\": {\"thread_id\": str(uuid.uuid4())}\n",
    "}\n",
    "\n",
    "# --- Run lần đầu để gặp interrupt ---\n",
    "for chunk in graph.stream({\"foo\": \"abc\"}, config):\n",
    "    print(chunk)\n",
    "\n",
    "# Lúc này graph sẽ trả ra interrupt\n",
    "# Bạn hỏi input user:\n",
    "user_input = input(\">> Please enter your answer: \")\n",
    "\n",
    "# --- Resume với input từ user ---\n",
    "for chunk in graph.stream(Command(resume=user_input), config):\n",
    "    print(chunk)\n"
   ]
  }
 ],
 "metadata": {
  "kernelspec": {
   "display_name": "Python 3",
   "language": "python",
   "name": "python3"
  },
  "language_info": {
   "codemirror_mode": {
    "name": "ipython",
    "version": 3
   },
   "file_extension": ".py",
   "mimetype": "text/x-python",
   "name": "python",
   "nbconvert_exporter": "python",
   "pygments_lexer": "ipython3",
   "version": "3.11.0"
  }
 },
 "nbformat": 4,
 "nbformat_minor": 5
}
