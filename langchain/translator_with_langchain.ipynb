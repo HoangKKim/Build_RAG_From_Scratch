{
 "cells": [
  {
   "cell_type": "markdown",
   "id": "98cb1002",
   "metadata": {},
   "source": [
    "**<h1 style = 'text-align: center'>Build a simple LLM application with chat models and prompt templates</h1>**"
   ]
  },
  {
   "cell_type": "markdown",
   "id": "55c87995",
   "metadata": {},
   "source": [
    "**Description**: Build a simple LLM application with LangChain. This application will translate text from English into another language.\n"
   ]
  },
  {
   "cell_type": "markdown",
   "id": "66a68920",
   "metadata": {},
   "source": [
    "## **1. Use Language Models**"
   ]
  },
  {
   "cell_type": "code",
   "execution_count": 7,
   "id": "6bab2a99",
   "metadata": {},
   "outputs": [],
   "source": [
    "import os\n",
    "\n",
    "from dotenv import load_dotenv\n",
    "\n",
    "from langchain.chat_models import init_chat_model\n",
    "\n",
    "load_dotenv()\n",
    "\n",
    "model = init_chat_model(\n",
    "    model = 'gpt-4o',\n",
    "    base_url = os.getenv('OPENAI_API_URL'),\n",
    "    api_key = os.getenv('OPENAI_API_KEY'),\n",
    "    temperature = 0.5\n",
    ")\n"
   ]
  },
  {
   "cell_type": "markdown",
   "id": "072a0e8f",
   "metadata": {},
   "source": [
    "- **ChatModels** are instances of **LangChain Runnables**, which means they expose a standard interface for interacting with them.\n",
    "- To simply call the model -> pass in a list of mgs to the `.invoke` method"
   ]
  },
  {
   "cell_type": "code",
   "execution_count": 8,
   "id": "d0cdd7b2",
   "metadata": {},
   "outputs": [
    {
     "data": {
      "text/plain": [
       "AIMessage(content='Xin chào!', additional_kwargs={'refusal': None}, response_metadata={'token_usage': {'completion_tokens': 5, 'prompt_tokens': 20, 'total_tokens': 25, 'completion_tokens_details': {'accepted_prediction_tokens': 0, 'audio_tokens': 0, 'reasoning_tokens': 0, 'rejected_prediction_tokens': 0}, 'prompt_tokens_details': {'audio_tokens': 0, 'cached_tokens': 0}}, 'model_name': 'gpt-4o-2024-05-13', 'system_fingerprint': 'fp_ee1d74bde0', 'id': 'chatcmpl-BqbD1V7RnsFSxTQBnuJQfUI2rnAKw', 'finish_reason': 'stop', 'logprobs': None}, id='run-1a715238-868e-44cd-95da-dbf667050bcf-0', usage_metadata={'input_tokens': 20, 'output_tokens': 5, 'total_tokens': 25, 'input_token_details': {'audio': 0, 'cache_read': 0}, 'output_token_details': {'audio': 0, 'reasoning': 0}})"
      ]
     },
     "execution_count": 8,
     "metadata": {},
     "output_type": "execute_result"
    }
   ],
   "source": [
    "from langchain_core.messages import HumanMessage, SystemMessage\n",
    "\n",
    "messages = [\n",
    "    SystemMessage(content = 'Translate the following from English into Vietnamese'),\n",
    "    HumanMessage(content = 'Hi!')\n",
    "]\n",
    "\n",
    "model.invoke(messages)"
   ]
  },
  {
   "cell_type": "markdown",
   "id": "76aeb7d0",
   "metadata": {},
   "source": [
    "## **2. Prompt Templates**"
   ]
  },
  {
   "cell_type": "markdown",
   "id": "638ad543",
   "metadata": {},
   "source": [
    "- **Prompt Templates** are a concept in LangChain designed to assist with the transformation. \n",
    "- They take in raw user input and return data (a prompt) that is ready tp pass into a language mode\n",
    "- Note that ChatPromptTemplate supports multiple message roles in a single template. "
   ]
  },
  {
   "cell_type": "code",
   "execution_count": null,
   "id": "ed7d330a",
   "metadata": {},
   "outputs": [
    {
     "data": {
      "text/plain": [
       "[SystemMessage(content='Translate the following from English into Chinese', additional_kwargs={}, response_metadata={}),\n",
       " HumanMessage(content='Hello', additional_kwargs={}, response_metadata={})]"
      ]
     },
     "execution_count": 15,
     "metadata": {},
     "output_type": "execute_result"
    }
   ],
   "source": [
    "from langchain_core.prompts import ChatPromptTemplate\n",
    "\n",
    "# format the language parameter into the system message, and the user text into a user message.\n",
    "system_template = 'Translate the following from English into {language}'\n",
    "user_template = '{text}'\n",
    "\n",
    "prompt_template = ChatPromptTemplate.from_messages(\n",
    "    [\n",
    "        (\"system\", system_template),\n",
    "        (\"user\", user_template)\n",
    "    ]\n",
    ")\n",
    "\n",
    "# The input to this prompt template is a dictionary.\n",
    "prompt = prompt_template.invoke({\"language\": \"Chinese\", \"text\": \"Hello\"})\n",
    "\n",
    "# -------------------------\n",
    "# prompt\n",
    "# ChatPromptValue(messages=[SystemMessage(content='Translate the following from English into Chinese', additional_kwargs={}, response_metadata={}), HumanMessage(content='Hello', additional_kwargs={}, response_metadata={})])\n",
    "#---------------------------\n",
    "\n",
    "# If we want to access the messages directly we do:\n",
    "prompt.to_messages()"
   ]
  },
  {
   "cell_type": "code",
   "execution_count": 17,
   "id": "659dcb10",
   "metadata": {},
   "outputs": [
    {
     "data": {
      "text/plain": [
       "'你好'"
      ]
     },
     "execution_count": 17,
     "metadata": {},
     "output_type": "execute_result"
    }
   ],
   "source": [
    "# invoke the chat model on the formatted prompt\n",
    "response = model.invoke(prompt)\n",
    "\n",
    "response.content"
   ]
  }
 ],
 "metadata": {
  "kernelspec": {
   "display_name": "Python 3",
   "language": "python",
   "name": "python3"
  },
  "language_info": {
   "codemirror_mode": {
    "name": "ipython",
    "version": 3
   },
   "file_extension": ".py",
   "mimetype": "text/x-python",
   "name": "python",
   "nbconvert_exporter": "python",
   "pygments_lexer": "ipython3",
   "version": "3.11.0"
  }
 },
 "nbformat": 4,
 "nbformat_minor": 5
}
