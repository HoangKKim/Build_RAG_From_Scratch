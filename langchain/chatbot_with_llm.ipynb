{
 "cells": [
  {
   "cell_type": "markdown",
   "id": "2e36c4a0",
   "metadata": {},
   "source": [
    "**<h1 style = 'text-align: center'>Build a semantic search engine</h1>**"
   ]
  },
  {
   "cell_type": "markdown",
   "id": "6f0cfc6b",
   "metadata": {},
   "source": [
    "## **1.1. Documents and Document Loaders**"
   ]
  },
  {
   "cell_type": "markdown",
   "id": "90dca9db",
   "metadata": {},
   "source": [
    "LangChain implements a Document abstraction, which is intended to represent a unit of text and associated metadata. It has three attributes:\n",
    "- `page_content`: a string representing the page_content\n",
    "- `metadata`: a dict containing arbitrary metadata\n",
    "-`id`: (optional) a string identifier for the document\n"
   ]
  },
  {
   "cell_type": "code",
   "execution_count": 2,
   "id": "d0cc75e8",
   "metadata": {},
   "outputs": [
    {
     "data": {
      "text/plain": [
       "[Document(metadata={'source': 'mammal-pets-doc'}, page_content='Dogs are great companions, known for their loyalty and friendliness.'),\n",
       " Document(metadata={'source': 'mammal-pets-doc'}, page_content='Cats are independent pets that often enjoy their own space.')]"
      ]
     },
     "execution_count": 2,
     "metadata": {},
     "output_type": "execute_result"
    }
   ],
   "source": [
    "# generate sample documents\n",
    "from langchain_core.documents import Document\n",
    "\n",
    "documents = [\n",
    "    Document(\n",
    "        page_content = 'Dogs are great companions, known for their loyalty and friendliness.',\n",
    "        metadata = {\"source\": \"mammal-pets-doc\"},\n",
    "    ),\n",
    "    Document(\n",
    "        page_content=\"Cats are independent pets that often enjoy their own space.\",\n",
    "        metadata={\"source\": \"mammal-pets-doc\"},\n",
    "    ),\n",
    "]\n",
    "\n",
    "documents"
   ]
  },
  {
   "cell_type": "code",
   "execution_count": 4,
   "id": "b27496f4",
   "metadata": {},
   "outputs": [
    {
     "data": {
      "text/plain": [
       "107"
      ]
     },
     "execution_count": 4,
     "metadata": {},
     "output_type": "execute_result"
    }
   ],
   "source": [
    "# loading documents\n",
    "\n",
    "from langchain_community.document_loaders import PyPDFLoader\n",
    "\n",
    "file_path = '../data/nke-10k-2023.pdf'\n",
    "loader = PyPDFLoader(file_path)\n",
    "\n",
    "docs = loader.load()\n",
    "\n",
    "len(docs)"
   ]
  },
  {
   "cell_type": "code",
   "execution_count": 7,
   "id": "5302b414",
   "metadata": {},
   "outputs": [
    {
     "name": "stdout",
     "output_type": "stream",
     "text": [
      "Table of Contents\n",
      "UNITED STATES\n",
      "SECURITIES AND EXCHANGE COMMISSION\n",
      "Washington, D.C. 20549\n",
      "FORM 10-K\n",
      "(Mark One)\n",
      "☑  ANNUAL REPORT PURSUANT TO SECTION 13 OR 15(D) OF THE SECURITIES EXCHANGE ACT OF 1934\n",
      "F\n",
      "\n",
      "{'producer': 'EDGRpdf Service w/ EO.Pdf 22.0.40.0', 'creator': 'EDGAR Filing HTML Converter', 'creationdate': '2023-07-20T16:22:00-04:00', 'title': '0000320187-23-000039', 'author': 'EDGAR Online, a division of Donnelley Financial Solutions', 'subject': 'Form 10-K filed on 2023-07-20 for the period ending 2023-05-31', 'keywords': '0000320187-23-000039; ; 10-K', 'moddate': '2023-07-20T16:22:08-04:00', 'source': '../data/nke-10k-2023.pdf', 'total_pages': 107, 'page': 0, 'page_label': '1'}\n"
     ]
    }
   ],
   "source": [
    "print(f\"{docs[0].page_content[:200]}\\n\")\n",
    "print(docs[0].metadata)"
   ]
  },
  {
   "cell_type": "markdown",
   "id": "9498ca4b",
   "metadata": {},
   "source": [
    "## **2. Splitting**"
   ]
  },
  {
   "cell_type": "markdown",
   "id": "a3b8ae42",
   "metadata": {},
   "source": [
    "- Text splitting the PDF will help ensure that the meanings of relevant portions of the documents are not \"washed out\" (làm mờ) by surrounding text\n",
    "- Use **text splitters** for this purpose: \n",
    "    + Will split our documents into chunks of 1000 characters with 200 characters of overlap between chunks (chia nhỏ tài liệu thành các đoạn (chunk) dài 1000 ký tự, và các đoạn có phần chồng lặp 200 ký tự).\n",
    "    + use the RecursiveCharacterTextSplitter, which will recursively split the document using common separators like new lines until each chunk is the appropriate size. (Cố gắng chia theo các ký tự ngăn cách tự nhiên (như dòng mới, đoạn văn, dấu chấm). ; Nếu đoạn quá dài, nó sẽ đệ quy chia nhỏ thêm đến khi đoạn đạt kích thước phù hợp)\n",
    "    + set `add_start_index=True` so that the character index where each split Document starts within the initial Document is preserved as metadata attribute “start_index”. (lưu thêm thông tin vị trí bắt đầu (start_index) của mỗi đoạn trong tài liệu gốc)"
   ]
  },
  {
   "cell_type": "code",
   "execution_count": null,
   "id": "f359fb85",
   "metadata": {},
   "outputs": [],
   "source": []
  }
 ],
 "metadata": {
  "kernelspec": {
   "display_name": "Python 3",
   "language": "python",
   "name": "python3"
  },
  "language_info": {
   "codemirror_mode": {
    "name": "ipython",
    "version": 3
   },
   "file_extension": ".py",
   "mimetype": "text/x-python",
   "name": "python",
   "nbconvert_exporter": "python",
   "pygments_lexer": "ipython3",
   "version": "3.11.0"
  }
 },
 "nbformat": 4,
 "nbformat_minor": 5
}
